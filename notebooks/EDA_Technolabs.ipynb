{
 "nbformat": 4,
 "nbformat_minor": 0,
 "metadata": {
  "colab": {
   "name": "EDA Technolabs",
   "provenance": [],
   "collapsed_sections": []
  },
  "kernelspec": {
   "name": "python3",
   "display_name": "Python 3"
  },
  "language_info": {
   "name": "python"
  }
 },
 "cells": [
  {
   "cell_type": "code",
   "execution_count": null,
   "metadata": {
    "id": "aAoog7f5FTKD"
   },
   "outputs": [],
   "source": "import pandas as pd\nimport numpy as np\nimport matplotlib.pyplot as plt\nimport seaborn as sns\n%matplotlib inline\n\n# Set style for better visualizations\nsns.set_style(\"whitegrid\")\nplt.rcParams['figure.figsize'] = (12, 6)"
  },
  {
   "cell_type": "code",
   "source": [
    "df1 = pd.read_csv(\"tc20171021.csv\",on_bad_lines='skip')\n",
    "df2 = pd.read_csv(\"true_car_listings.csv\")\n",
    "df_full = pd.concat([df1, df2], ignore_index=True)"
   ],
   "metadata": {
    "id": "1wByY-JMFbxu"
   },
   "execution_count": 8,
   "outputs": []
  },
  {
   "cell_type": "code",
   "source": "## Dataset Statistics\n\nprint(\"Dataset Shape:\", df_full.shape)\nprint(\"\\n\" + \"=\"*60)\nprint(\"STATISTICAL SUMMARY\")\nprint(\"=\"*60)\ndf_full.describe()",
   "metadata": {
    "colab": {
     "base_uri": "https://localhost:8080/",
     "height": 300
    },
    "id": "MQ6r5ldpJ2Uo",
    "outputId": "5c0d7065-65f2-441e-af6c-7ebeae4ff600"
   },
   "execution_count": null,
   "outputs": []
  },
  {
   "cell_type": "markdown",
   "source": "## Key Insights from Statistical Summary\n\nFrom the statistical analysis above, we observe:\n\n- **Total Records**: 143,115 vehicle records (with 59,739 having IDs)\n- **Price Range**: $1,500 - $279,990 with a mean of **$24,352**\n- **Median Price**: $22,428 (indicating right-skewed distribution)\n- **Model Years**: 1997 - 2018\n- **Average Mileage**: 53,803 miles\n- **Year Distribution**: Most vehicles are from 2015 (75th percentile)\n\nThe 3rd quartile shows that 75% of cars are priced under $31,126, suggesting the dataset primarily consists of mid-range vehicles.",
   "metadata": {
    "id": "RrcHnC20KPfN"
   }
  },
  {
   "cell_type": "code",
   "source": [
    "df_full.head(10)"
   ],
   "metadata": {
    "colab": {
     "base_uri": "https://localhost:8080/",
     "height": 363
    },
    "id": "pUmRaUb4KDUR",
    "outputId": "4cc4dc23-bca2-46fa-d068-6b3c35853fdf"
   },
   "execution_count": 10,
   "outputs": [
    {
     "output_type": "execute_result",
     "data": {
      "text/plain": [
       "     Id  Price  Year  Mileage            City State                Vin   Make  \\\n",
       "0   1.0  16472  2015    18681  Jefferson City    MO  KL4CJBSBXFB267643  Buick   \n",
       "1   2.0  15749  2015    27592        Highland    IN  KL4CJASB5FB245057  Buick   \n",
       "2   3.0  16998  2015    13650           Boone    NC  KL4CJCSB0FB264921  Buick   \n",
       "3   4.0  15777  2015    25195     New Orleans    LA  KL4CJASB4FB217542  Buick   \n",
       "4   5.0  16784  2015    22800       Las Vegas    NV  KL4CJBSB3FB166881  Buick   \n",
       "5   6.0  17020  2016    16877    Grand Island    NY  KL4CJASB7GB536760  Buick   \n",
       "6   7.0  15950  2015    27885     West Covina    CA  KL4CJASB3FB241802  Buick   \n",
       "7   8.0  17091  2016    24008     Little Rock    AR  KL4CJASBXGB565542  Buick   \n",
       "8   9.0  16995  2015     8624     Punta Gorda    FL  KL4CJFSB7FB173565  Buick   \n",
       "9  10.0  17700  2015    13807    Jacksonville    NC  KL4CJBSB8FB068543  Buick   \n",
       "\n",
       "               Model  \n",
       "0  EncoreConvenience  \n",
       "1          EncoreFWD  \n",
       "2      EncoreLeather  \n",
       "3          EncoreFWD  \n",
       "4  EncoreConvenience  \n",
       "5          EncoreFWD  \n",
       "6          EncoreFWD  \n",
       "7          EncoreFWD  \n",
       "8  EncoreConvenience  \n",
       "9  EncoreConvenience  "
      ],
      "text/html": [
       "\n",
       "  <div id=\"df-30194d0f-26bd-4a88-bd4b-1de9a617edcf\">\n",
       "    <div class=\"colab-df-container\">\n",
       "      <div>\n",
       "<style scoped>\n",
       "    .dataframe tbody tr th:only-of-type {\n",
       "        vertical-align: middle;\n",
       "    }\n",
       "\n",
       "    .dataframe tbody tr th {\n",
       "        vertical-align: top;\n",
       "    }\n",
       "\n",
       "    .dataframe thead th {\n",
       "        text-align: right;\n",
       "    }\n",
       "</style>\n",
       "<table border=\"1\" class=\"dataframe\">\n",
       "  <thead>\n",
       "    <tr style=\"text-align: right;\">\n",
       "      <th></th>\n",
       "      <th>Id</th>\n",
       "      <th>Price</th>\n",
       "      <th>Year</th>\n",
       "      <th>Mileage</th>\n",
       "      <th>City</th>\n",
       "      <th>State</th>\n",
       "      <th>Vin</th>\n",
       "      <th>Make</th>\n",
       "      <th>Model</th>\n",
       "    </tr>\n",
       "  </thead>\n",
       "  <tbody>\n",
       "    <tr>\n",
       "      <th>0</th>\n",
       "      <td>1.0</td>\n",
       "      <td>16472</td>\n",
       "      <td>2015</td>\n",
       "      <td>18681</td>\n",
       "      <td>Jefferson City</td>\n",
       "      <td>MO</td>\n",
       "      <td>KL4CJBSBXFB267643</td>\n",
       "      <td>Buick</td>\n",
       "      <td>EncoreConvenience</td>\n",
       "    </tr>\n",
       "    <tr>\n",
       "      <th>1</th>\n",
       "      <td>2.0</td>\n",
       "      <td>15749</td>\n",
       "      <td>2015</td>\n",
       "      <td>27592</td>\n",
       "      <td>Highland</td>\n",
       "      <td>IN</td>\n",
       "      <td>KL4CJASB5FB245057</td>\n",
       "      <td>Buick</td>\n",
       "      <td>EncoreFWD</td>\n",
       "    </tr>\n",
       "    <tr>\n",
       "      <th>2</th>\n",
       "      <td>3.0</td>\n",
       "      <td>16998</td>\n",
       "      <td>2015</td>\n",
       "      <td>13650</td>\n",
       "      <td>Boone</td>\n",
       "      <td>NC</td>\n",
       "      <td>KL4CJCSB0FB264921</td>\n",
       "      <td>Buick</td>\n",
       "      <td>EncoreLeather</td>\n",
       "    </tr>\n",
       "    <tr>\n",
       "      <th>3</th>\n",
       "      <td>4.0</td>\n",
       "      <td>15777</td>\n",
       "      <td>2015</td>\n",
       "      <td>25195</td>\n",
       "      <td>New Orleans</td>\n",
       "      <td>LA</td>\n",
       "      <td>KL4CJASB4FB217542</td>\n",
       "      <td>Buick</td>\n",
       "      <td>EncoreFWD</td>\n",
       "    </tr>\n",
       "    <tr>\n",
       "      <th>4</th>\n",
       "      <td>5.0</td>\n",
       "      <td>16784</td>\n",
       "      <td>2015</td>\n",
       "      <td>22800</td>\n",
       "      <td>Las Vegas</td>\n",
       "      <td>NV</td>\n",
       "      <td>KL4CJBSB3FB166881</td>\n",
       "      <td>Buick</td>\n",
       "      <td>EncoreConvenience</td>\n",
       "    </tr>\n",
       "    <tr>\n",
       "      <th>5</th>\n",
       "      <td>6.0</td>\n",
       "      <td>17020</td>\n",
       "      <td>2016</td>\n",
       "      <td>16877</td>\n",
       "      <td>Grand Island</td>\n",
       "      <td>NY</td>\n",
       "      <td>KL4CJASB7GB536760</td>\n",
       "      <td>Buick</td>\n",
       "      <td>EncoreFWD</td>\n",
       "    </tr>\n",
       "    <tr>\n",
       "      <th>6</th>\n",
       "      <td>7.0</td>\n",
       "      <td>15950</td>\n",
       "      <td>2015</td>\n",
       "      <td>27885</td>\n",
       "      <td>West Covina</td>\n",
       "      <td>CA</td>\n",
       "      <td>KL4CJASB3FB241802</td>\n",
       "      <td>Buick</td>\n",
       "      <td>EncoreFWD</td>\n",
       "    </tr>\n",
       "    <tr>\n",
       "      <th>7</th>\n",
       "      <td>8.0</td>\n",
       "      <td>17091</td>\n",
       "      <td>2016</td>\n",
       "      <td>24008</td>\n",
       "      <td>Little Rock</td>\n",
       "      <td>AR</td>\n",
       "      <td>KL4CJASBXGB565542</td>\n",
       "      <td>Buick</td>\n",
       "      <td>EncoreFWD</td>\n",
       "    </tr>\n",
       "    <tr>\n",
       "      <th>8</th>\n",
       "      <td>9.0</td>\n",
       "      <td>16995</td>\n",
       "      <td>2015</td>\n",
       "      <td>8624</td>\n",
       "      <td>Punta Gorda</td>\n",
       "      <td>FL</td>\n",
       "      <td>KL4CJFSB7FB173565</td>\n",
       "      <td>Buick</td>\n",
       "      <td>EncoreConvenience</td>\n",
       "    </tr>\n",
       "    <tr>\n",
       "      <th>9</th>\n",
       "      <td>10.0</td>\n",
       "      <td>17700</td>\n",
       "      <td>2015</td>\n",
       "      <td>13807</td>\n",
       "      <td>Jacksonville</td>\n",
       "      <td>NC</td>\n",
       "      <td>KL4CJBSB8FB068543</td>\n",
       "      <td>Buick</td>\n",
       "      <td>EncoreConvenience</td>\n",
       "    </tr>\n",
       "  </tbody>\n",
       "</table>\n",
       "</div>\n",
       "      <button class=\"colab-df-convert\" onclick=\"convertToInteractive('df-30194d0f-26bd-4a88-bd4b-1de9a617edcf')\"\n",
       "              title=\"Convert this dataframe to an interactive table.\"\n",
       "              style=\"display:none;\">\n",
       "        \n",
       "  <svg xmlns=\"http://www.w3.org/2000/svg\" height=\"24px\"viewBox=\"0 0 24 24\"\n",
       "       width=\"24px\">\n",
       "    <path d=\"M0 0h24v24H0V0z\" fill=\"none\"/>\n",
       "    <path d=\"M18.56 5.44l.94 2.06.94-2.06 2.06-.94-2.06-.94-.94-2.06-.94 2.06-2.06.94zm-11 1L8.5 8.5l.94-2.06 2.06-.94-2.06-.94L8.5 2.5l-.94 2.06-2.06.94zm10 10l.94 2.06.94-2.06 2.06-.94-2.06-.94-.94-2.06-.94 2.06-2.06.94z\"/><path d=\"M17.41 7.96l-1.37-1.37c-.4-.4-.92-.59-1.43-.59-.52 0-1.04.2-1.43.59L10.3 9.45l-7.72 7.72c-.78.78-.78 2.05 0 2.83L4 21.41c.39.39.9.59 1.41.59.51 0 1.02-.2 1.41-.59l7.78-7.78 2.81-2.81c.8-.78.8-2.07 0-2.86zM5.41 20L4 18.59l7.72-7.72 1.47 1.35L5.41 20z\"/>\n",
       "  </svg>\n",
       "      </button>\n",
       "      \n",
       "  <style>\n",
       "    .colab-df-container {\n",
       "      display:flex;\n",
       "      flex-wrap:wrap;\n",
       "      gap: 12px;\n",
       "    }\n",
       "\n",
       "    .colab-df-convert {\n",
       "      background-color: #E8F0FE;\n",
       "      border: none;\n",
       "      border-radius: 50%;\n",
       "      cursor: pointer;\n",
       "      display: none;\n",
       "      fill: #1967D2;\n",
       "      height: 32px;\n",
       "      padding: 0 0 0 0;\n",
       "      width: 32px;\n",
       "    }\n",
       "\n",
       "    .colab-df-convert:hover {\n",
       "      background-color: #E2EBFA;\n",
       "      box-shadow: 0px 1px 2px rgba(60, 64, 67, 0.3), 0px 1px 3px 1px rgba(60, 64, 67, 0.15);\n",
       "      fill: #174EA6;\n",
       "    }\n",
       "\n",
       "    [theme=dark] .colab-df-convert {\n",
       "      background-color: #3B4455;\n",
       "      fill: #D2E3FC;\n",
       "    }\n",
       "\n",
       "    [theme=dark] .colab-df-convert:hover {\n",
       "      background-color: #434B5C;\n",
       "      box-shadow: 0px 1px 3px 1px rgba(0, 0, 0, 0.15);\n",
       "      filter: drop-shadow(0px 1px 2px rgba(0, 0, 0, 0.3));\n",
       "      fill: #FFFFFF;\n",
       "    }\n",
       "  </style>\n",
       "\n",
       "      <script>\n",
       "        const buttonEl =\n",
       "          document.querySelector('#df-30194d0f-26bd-4a88-bd4b-1de9a617edcf button.colab-df-convert');\n",
       "        buttonEl.style.display =\n",
       "          google.colab.kernel.accessAllowed ? 'block' : 'none';\n",
       "\n",
       "        async function convertToInteractive(key) {\n",
       "          const element = document.querySelector('#df-30194d0f-26bd-4a88-bd4b-1de9a617edcf');\n",
       "          const dataTable =\n",
       "            await google.colab.kernel.invokeFunction('convertToInteractive',\n",
       "                                                     [key], {});\n",
       "          if (!dataTable) return;\n",
       "\n",
       "          const docLinkHtml = 'Like what you see? Visit the ' +\n",
       "            '<a target=\"_blank\" href=https://colab.research.google.com/notebooks/data_table.ipynb>data table notebook</a>'\n",
       "            + ' to learn more about interactive tables.';\n",
       "          element.innerHTML = '';\n",
       "          dataTable['output_type'] = 'display_data';\n",
       "          await google.colab.output.renderOutput(dataTable, element);\n",
       "          const docLink = document.createElement('div');\n",
       "          docLink.innerHTML = docLinkHtml;\n",
       "          element.appendChild(docLink);\n",
       "        }\n",
       "      </script>\n",
       "    </div>\n",
       "  </div>\n",
       "  "
      ]
     },
     "metadata": {},
     "execution_count": 10
    }
   ]
  },
  {
   "cell_type": "markdown",
   "source": "## Dataset Overview\n\nThe dataset contains **9 columns** with the following features:\n- **Id**: Unique identifier\n- **Price**: Target variable (vehicle price in USD)\n- **Year**: Manufacturing year\n- **Mileage**: Total miles driven\n- **City**: Location city\n- **State**: Location state\n- **Vin**: Vehicle Identification Number\n- **Make**: Vehicle manufacturer (e.g., Buick, Ford, Toyota)\n- **Model**: Specific vehicle model",
   "metadata": {
    "id": "6I66Td31Kzwv"
   }
  },
  {
   "cell_type": "code",
   "source": [
    "# list the data types for each column\n",
    "print(df_full.dtypes)"
   ],
   "metadata": {
    "colab": {
     "base_uri": "https://localhost:8080/"
    },
    "id": "oX7Hc9lgKLHS",
    "outputId": "3a7c21c4-2850-4a15-f558-ea03002c6efc"
   },
   "execution_count": 13,
   "outputs": [
    {
     "output_type": "stream",
     "name": "stdout",
     "text": [
      "Id         float64\n",
      "Price        int64\n",
      "Year         int64\n",
      "Mileage      int64\n",
      "City        object\n",
      "State       object\n",
      "Vin         object\n",
      "Make        object\n",
      "Model       object\n",
      "dtype: object\n"
     ]
    }
   ]
  },
  {
   "cell_type": "markdown",
   "source": "## Correlation Analysis\n\nLet's examine the relationships between numerical features to identify key price predictors.",
   "metadata": {
    "id": "dJZjJ3-lNpcD"
   }
  },
  {
   "cell_type": "code",
   "source": "## Correlation Matrix\n\nprint(\"Correlation Analysis\")\nprint(\"=\"*60)\ncorrelation_matrix = df_full.corr()\nprint(\"\\nKey Correlations with Price:\")\nprint(f\"  Year vs Price: {correlation_matrix.loc['Year', 'Price']:.4f} (Strong Positive)\")\nprint(f\"  Mileage vs Price: {correlation_matrix.loc['Mileage', 'Price']:.4f} (Strong Negative)\")\nprint(f\"  Year vs Mileage: {correlation_matrix.loc['Year', 'Mileage']:.4f} (Strong Negative)\")\nprint(\"\\n\" + \"=\"*60)\ncorrelation_matrix",
   "metadata": {
    "colab": {
     "base_uri": "https://localhost:8080/",
     "height": 175
    },
    "id": "dqsxTyt6Ndlj",
    "outputId": "490c8f2f-06ab-409c-de8c-534b0fff4fdf"
   },
   "execution_count": null,
   "outputs": []
  },
  {
   "cell_type": "code",
   "source": [
    "sns.regplot(x=\"Mileage\", y=\"Price\", data=df_full)\n",
    "plt.ylim(0,)"
   ],
   "metadata": {
    "colab": {
     "base_uri": "https://localhost:8080/",
     "height": 298
    },
    "id": "WUrDoAsVNw46",
    "outputId": "6f0ff3fe-a927-47ea-e802-b204a0e4ae14"
   },
   "execution_count": 19,
   "outputs": [
    {
     "output_type": "execute_result",
     "data": {
      "text/plain": [
       "(0.0, 306086.1044435779)"
      ]
     },
     "metadata": {},
     "execution_count": 19
    },
    {
     "output_type": "display_data",
     "data": {
      "text/plain": [
       "<Figure size 432x288 with 1 Axes>"
      ],
      "image/png": "[encoded data removed]"
     },
     "metadata": {
      "needs_background": "light"
     }
    }
   ]
  },
  {
   "cell_type": "markdown",
   "source": [
    ""
   ],
   "metadata": {
    "id": "R5j5w6e_Qd1d"
   }
  },
  {
   "cell_type": "markdown",
   "source": [
    "In the above figure we can see that cars with zero or small Mileage has high prices."
   ],
   "metadata": {
    "id": "EqcmnMW_Qd3i"
   }
  },
  {
   "cell_type": "code",
   "source": [
    ""
   ],
   "metadata": {
    "id": "c1TxVwB-Pivu"
   },
   "execution_count": null,
   "outputs": []
  },
  {
   "cell_type": "code",
   "source": [
    "sns.regplot(x=\"Year\", y=\"Price\", data=df_full)"
   ],
   "metadata": {
    "colab": {
     "base_uri": "https://localhost:8080/",
     "height": 298
    },
    "id": "LV7Uy8KiQN2A",
    "outputId": "dadc7e4e-80c8-41da-fca0-52bce96fa72b"
   },
   "execution_count": 20,
   "outputs": [
    {
     "output_type": "execute_result",
     "data": {
      "text/plain": [
       "<matplotlib.axes._subplots.AxesSubplot at 0x7ff074134390>"
      ]
     },
     "metadata": {},
     "execution_count": 20
    },
    {
     "output_type": "display_data",
     "data": {
      "text/plain": [
       "<Figure size 432x288 with 1 Axes>"
      ],
      "image/png": "[encoded data removed]"
     },
     "metadata": {
      "needs_background": "light"
     }
    }
   ]
  },
  {
   "cell_type": "markdown",
   "source": [
    "in the above figure we can notice that the newer the model is, the more the price increases."
   ],
   "metadata": {
    "id": "t4EzpsY4QvD0"
   }
  },
  {
   "cell_type": "markdown",
   "source": [
    "A good way to visualize categorical variables is by using boxplots so we visualize the model of the cars and the price"
   ],
   "metadata": {
    "id": "mUJYHfhsRGgo"
   }
  },
  {
   "cell_type": "code",
   "source": [
    "sns.set(rc={'figure.figsize':(20,12)})"
   ],
   "metadata": {
    "id": "pCgac1jnTC3b"
   },
   "execution_count": 28,
   "outputs": []
  },
  {
   "cell_type": "code",
   "source": [
    "sns.boxplot(x=\"Make\", y=\"Price\",width= 0.2, data=df_full)"
   ],
   "metadata": {
    "colab": {
     "base_uri": "https://localhost:8080/",
     "height": 686
    },
    "id": "ONyiX-sOQX1U",
    "outputId": "7cc17442-c452-4016-951a-4b4064ea39ad"
   },
   "execution_count": 29,
   "outputs": [
    {
     "output_type": "execute_result",
     "data": {
      "text/plain": [
       "<matplotlib.axes._subplots.AxesSubplot at 0x7ff06cc0b050>"
      ]
     },
     "metadata": {},
     "execution_count": 29
    },
    {
     "output_type": "display_data",
     "data": {
      "text/plain": [
       "<Figure size 1440x864 with 1 Axes>"
      ],
      "image/png": "[encoded data removed]"
     },
     "metadata": {}
    }
   ]
  },
  {
   "cell_type": "code",
   "source": [
    ""
   ],
   "metadata": {
    "id": "hoR8ZbowRXpB"
   },
   "execution_count": null,
   "outputs": []
  }
 ]
}